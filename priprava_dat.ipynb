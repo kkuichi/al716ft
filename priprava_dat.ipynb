{
 "cells": [
  {
   "cell_type": "code",
   "execution_count": 1,
   "id": "5b9a714f-9f35-454d-912f-6c6061dcdb02",
   "metadata": {},
   "outputs": [],
   "source": [
    "import pandas as pd                  \n",
    "import unicodedata                  \n",
    "import requests                     \n",
    "import re                           \n",
    "from datasets import load_dataset   "
   ]
  },
  {
   "cell_type": "code",
   "execution_count": 2,
   "id": "b3f291ea-efa3-4e6a-af8e-f2cfe45ed3c0",
   "metadata": {},
   "outputs": [],
   "source": [
    "# Funkcia na odstránenie diakritiky\n",
    "def remove_diacritics(text):\n",
    "    return ''.join(\n",
    "        c for c in unicodedata.normalize('NFKD', text)\n",
    "        if not unicodedata.combining(c)\n",
    "    )"
   ]
  },
  {
   "cell_type": "code",
   "execution_count": 3,
   "id": "c0586ca5-6544-4a3a-b210-3de845ea1df4",
   "metadata": {},
   "outputs": [],
   "source": [
    "# Funkcia na predspracovanie textov (bez zmeny veľkosti písmen)\n",
    "def preprocess(texts, remove_diacritics_flag=True, remove_stopwords_flag=False):\n",
    "    \n",
    "    # Odstránenie špeciálnych znakov, ponechanie slovenských písmen\n",
    "    texts = texts.str.replace(r'[^a-zA-ZáäčďéíľĺňóôŕšťúýžÁÄČĎÉÍĽĹŇÓÔŔŠŤÚÝŽ\\s]', '', regex=True)\n",
    "\n",
    "    # Odstránenie diakritiky (ak je zvolené)\n",
    "    if remove_diacritics_flag:\n",
    "        texts = texts.apply(remove_diacritics)\n",
    "\n",
    "    # Odstránenie stop-slov (s ohľadom na veľkosť a diakritiku)\n",
    "    if remove_stopwords_flag:\n",
    "        texts = texts.apply(lambda x: ' '.join([\n",
    "            word for word in x.split()\n",
    "            if word.lower() not in stopwords_with_diacritics\n",
    "            and remove_diacritics(word).lower() not in ascii_stopwords\n",
    "        ]))\n",
    "\n",
    "    return texts"
   ]
  },
  {
   "cell_type": "code",
   "execution_count": 4,
   "id": "d059bed7-8841-4344-9e88-69fe557e546f",
   "metadata": {},
   "outputs": [],
   "source": [
    "# Stiahnutie stop-slov zo slovenského repozitára\n",
    "url = \"https://raw.githubusercontent.com/stopwords-iso/stopwords-sk/master/stopwords-sk.txt\"\n",
    "response = requests.get(url)\n",
    "original_stopwords = response.text.strip().split('\\n')\n",
    "\n",
    "# Vytvorenie dvoch množín: s diakritikou a bez diakritiky\n",
    "ascii_stopwords = set(remove_diacritics(word.strip()) for word in original_stopwords if word.strip())\n",
    "stopwords_with_diacritics = set(word.strip().lower() for word in original_stopwords if word.strip())"
   ]
  },
  {
   "cell_type": "code",
   "execution_count": 5,
   "id": "a85cc8eb-e37d-43fb-aed5-70487572d4bc",
   "metadata": {},
   "outputs": [],
   "source": [
    "# Načítanie trénovacej časti datasetu TUKE-KEMT/toxic-sk\n",
    "dataset = load_dataset('TUKE-KEMT/toxic-sk', split='train')\n",
    "df = pd.DataFrame(dataset)\n",
    "\n",
    "# Odstránenie prázdnych hodnôt a premenovanie stĺpca pre čitateľnosť\n",
    "df = df.dropna()\n",
    "df.rename(columns={'text': 'comments'}, inplace=True)"
   ]
  },
  {
   "cell_type": "code",
   "execution_count": 6,
   "id": "50eec601-8672-44cf-bf18-b7d29efefe91",
   "metadata": {},
   "outputs": [],
   "source": [
    "# Čistenie komentárov. SlovakBERT podporuje diakritiku, preto ju ponechávame\n",
    "df['processed_comments'] = preprocess(\n",
    "    df['comments'],\n",
    "    remove_diacritics_flag=False,\n",
    "    remove_stopwords_flag=True\n",
    ")"
   ]
  },
  {
   "cell_type": "code",
   "execution_count": 7,
   "id": "a0a3eef3-4a10-467b-b964-d7ccae897fcd",
   "metadata": {},
   "outputs": [
    {
     "name": "stdout",
     "output_type": "stream",
     "text": [
      "\n",
      "Ukážka čistenia komentárov:\n",
      "                                            comments  \\\n",
      "0                                       Ďakujeme Vám   \n",
      "1  \"Chcú urobiť výsledok testu a aké sú náklady o...   \n",
      "2                    chvála bohu mladý chcú tiež žiť   \n",
      "3  nedozvedeli sme sa nič no ale čo by sme sa aj ...   \n",
      "4    veľká väčšina s vami nesúhlasí to je váš názor.   \n",
      "5                   uz ti preplo uplne? jebo drbnutý   \n",
      "6  informovať politika inej krajiny (akejkolvek) ...   \n",
      "7                    či sa nehanbíš tu dávať statusy   \n",
      "8  ved ty vies vsetky len osierat ty mas asi mies...   \n",
      "9                                 gratulujem a verim   \n",
      "\n",
      "                                  processed_comments  \n",
      "0                                           Ďakujeme  \n",
      "1  Chcú urobiť výsledok testu náklady obchodu obc...  \n",
      "2                         chvála bohu mladý chcú žiť  \n",
      "3                 nedozvedeli mohli dozvedieť zdroja  \n",
      "4                      veľká väčšina nesúhlasí názor  \n",
      "5                          preplo uplne jebo drbnutý  \n",
      "6  informovať politika krajiny akejkolvek skor pr...  \n",
      "7                             nehanbíš dávať statusy  \n",
      "8                    vies osierat miesto mozgu hovna  \n",
      "9                                   gratulujem verim  \n"
     ]
    }
   ],
   "source": [
    "# Ukážka niekoľkých pôvodných a predspracovaných komentárov\n",
    "print(\"\\nUkážka čistenia komentárov:\")\n",
    "print(df[['comments', 'processed_comments']].head(10))"
   ]
  },
  {
   "cell_type": "code",
   "execution_count": 8,
   "id": "2f3cacc6-ebdf-4c08-9f63-2a3c83949256",
   "metadata": {},
   "outputs": [
    {
     "name": "stdout",
     "output_type": "stream",
     "text": [
      "\n",
      "Dataset uložený ako 'toxic_sk_for_slovakbert.csv'\n"
     ]
    }
   ],
   "source": [
    "# Výber potrebných stĺpcov a premenovanie pre konzistenciu\n",
    "df_out = df[['processed_comments', 'label']]\n",
    "df_out.columns = ['text', 'label']\n",
    "\n",
    "# Uloženie do CSV\n",
    "df_out.to_csv('toxic_sk_for_slovakbert.csv', index=False)\n",
    "\n",
    "print(\"\\nDataset uložený ako 'toxic_sk_for_slovakbert.csv'\")\n"
   ]
  }
 ],
 "metadata": {
  "kernelspec": {
   "display_name": "Python 3 (ipykernel)",
   "language": "python",
   "name": "python3"
  },
  "language_info": {
   "codemirror_mode": {
    "name": "ipython",
    "version": 3
   },
   "file_extension": ".py",
   "mimetype": "text/x-python",
   "name": "python",
   "nbconvert_exporter": "python",
   "pygments_lexer": "ipython3",
   "version": "3.12.10"
  }
 },
 "nbformat": 4,
 "nbformat_minor": 5
}
