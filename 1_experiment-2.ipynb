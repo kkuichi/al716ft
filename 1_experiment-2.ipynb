{
 "cells": [
  {
   "cell_type": "code",
   "execution_count": 1,
   "id": "49b3dc75-f6d0-4865-8416-e0c94bee7a99",
   "metadata": {},
   "outputs": [
    {
     "name": "stderr",
     "output_type": "stream",
     "text": [
      "2025-05-19 09:44:47.238884: E external/local_xla/xla/stream_executor/cuda/cuda_fft.cc:467] Unable to register cuFFT factory: Attempting to register factory for plugin cuFFT when one has already been registered\n",
      "WARNING: All log messages before absl::InitializeLog() is called are written to STDERR\n",
      "E0000 00:00:1747647887.252833   10826 cuda_dnn.cc:8579] Unable to register cuDNN factory: Attempting to register factory for plugin cuDNN when one has already been registered\n",
      "E0000 00:00:1747647887.257020   10826 cuda_blas.cc:1407] Unable to register cuBLAS factory: Attempting to register factory for plugin cuBLAS when one has already been registered\n",
      "W0000 00:00:1747647887.268302   10826 computation_placer.cc:177] computation placer already registered. Please check linkage and avoid linking the same target more than once.\n",
      "W0000 00:00:1747647887.268316   10826 computation_placer.cc:177] computation placer already registered. Please check linkage and avoid linking the same target more than once.\n",
      "W0000 00:00:1747647887.268318   10826 computation_placer.cc:177] computation placer already registered. Please check linkage and avoid linking the same target more than once.\n",
      "W0000 00:00:1747647887.268319   10826 computation_placer.cc:177] computation placer already registered. Please check linkage and avoid linking the same target more than once.\n",
      "2025-05-19 09:44:47.272041: I tensorflow/core/platform/cpu_feature_guard.cc:210] This TensorFlow binary is optimized to use available CPU instructions in performance-critical operations.\n",
      "To enable the following instructions: AVX2 FMA, in other operations, rebuild TensorFlow with the appropriate compiler flags.\n"
     ]
    }
   ],
   "source": [
    "import torch\n",
    "from transformers import BertTokenizer, BertForSequenceClassification\n",
    "from torch.utils.data import DataLoader, TensorDataset\n",
    "from sklearn.model_selection import train_test_split\n",
    "from sklearn.metrics import confusion_matrix, accuracy_score, precision_score, recall_score, f1_score\n",
    "import pandas as pd\n",
    "import matplotlib.pyplot as plt\n",
    "import seaborn as sns"
   ]
  },
  {
   "cell_type": "code",
   "execution_count": 2,
   "id": "faa87c41-4035-4587-b6c1-362a7355ba4a",
   "metadata": {},
   "outputs": [],
   "source": [
    "# Načítanie dát\n",
    "df = pd.read_csv(\"toxic_training.csv\")\n",
    "df = df.dropna()\n",
    "\n",
    "# Prevod labelov na celé čísla\n",
    "df['label'] = df['label'].astype(int)"
   ]
  },
  {
   "cell_type": "code",
   "execution_count": 3,
   "id": "9ccd80d5-49a3-4a32-8b3b-1a53e421898f",
   "metadata": {},
   "outputs": [],
   "source": [
    "# Rozdelenie na trénovacie/testovacie dáta\n",
    "train_texts, test_texts, train_labels, test_labels = train_test_split(\n",
    "    df['text'], df['label'], test_size=0.2, random_state=42\n",
    ")"
   ]
  },
  {
   "cell_type": "code",
   "execution_count": 4,
   "id": "f5a85ccc-95d9-4559-8ce3-49757f72e610",
   "metadata": {},
   "outputs": [],
   "source": [
    "# Načítanie predtrénovaného BERT tokenizéra\n",
    "tokenizer = BertTokenizer.from_pretrained('bert-base-uncased')\n",
    "\n",
    "# Tokenizácia trénovacích a testovacích textov\n",
    "train_encodings = tokenizer(train_texts.tolist(), truncation=True, padding=True, max_length=128)\n",
    "test_encodings = tokenizer(test_texts.tolist(), truncation=True, padding=True, max_length=128)"
   ]
  },
  {
   "cell_type": "code",
   "execution_count": 5,
   "id": "7e2b4efc-e209-4e50-a139-11b76d905313",
   "metadata": {},
   "outputs": [],
   "source": [
    "# Príprava TensorDatasetov\n",
    "train_dataset = TensorDataset(\n",
    "    torch.tensor(train_encodings['input_ids']),\n",
    "    torch.tensor(train_encodings['attention_mask']),\n",
    "    torch.tensor(train_labels.tolist(), dtype=torch.long)  # labely musia byť typu long\n",
    ")\n",
    "\n",
    "test_dataset = TensorDataset(\n",
    "    torch.tensor(test_encodings['input_ids']),\n",
    "    torch.tensor(test_encodings['attention_mask']),\n",
    "    torch.tensor(test_labels.tolist(), dtype=torch.long)\n",
    ")"
   ]
  },
  {
   "cell_type": "code",
   "execution_count": 6,
   "id": "9baea2e5-bd71-44e3-b30d-41a89f9200ae",
   "metadata": {},
   "outputs": [
    {
     "name": "stderr",
     "output_type": "stream",
     "text": [
      "Some weights of BertForSequenceClassification were not initialized from the model checkpoint at bert-base-uncased and are newly initialized: ['classifier.bias', 'classifier.weight']\n",
      "You should probably TRAIN this model on a down-stream task to be able to use it for predictions and inference.\n"
     ]
    }
   ],
   "source": [
    "# Inicializácia modelu\n",
    "model = BertForSequenceClassification.from_pretrained('bert-base-uncased', num_labels=4)"
   ]
  },
  {
   "cell_type": "code",
   "execution_count": 7,
   "id": "dd960834-b5d4-404f-b666-eff1da55edeb",
   "metadata": {},
   "outputs": [
    {
     "data": {
      "text/plain": [
       "BertForSequenceClassification(\n",
       "  (bert): BertModel(\n",
       "    (embeddings): BertEmbeddings(\n",
       "      (word_embeddings): Embedding(30522, 768, padding_idx=0)\n",
       "      (position_embeddings): Embedding(512, 768)\n",
       "      (token_type_embeddings): Embedding(2, 768)\n",
       "      (LayerNorm): LayerNorm((768,), eps=1e-12, elementwise_affine=True)\n",
       "      (dropout): Dropout(p=0.1, inplace=False)\n",
       "    )\n",
       "    (encoder): BertEncoder(\n",
       "      (layer): ModuleList(\n",
       "        (0-11): 12 x BertLayer(\n",
       "          (attention): BertAttention(\n",
       "            (self): BertSdpaSelfAttention(\n",
       "              (query): Linear(in_features=768, out_features=768, bias=True)\n",
       "              (key): Linear(in_features=768, out_features=768, bias=True)\n",
       "              (value): Linear(in_features=768, out_features=768, bias=True)\n",
       "              (dropout): Dropout(p=0.1, inplace=False)\n",
       "            )\n",
       "            (output): BertSelfOutput(\n",
       "              (dense): Linear(in_features=768, out_features=768, bias=True)\n",
       "              (LayerNorm): LayerNorm((768,), eps=1e-12, elementwise_affine=True)\n",
       "              (dropout): Dropout(p=0.1, inplace=False)\n",
       "            )\n",
       "          )\n",
       "          (intermediate): BertIntermediate(\n",
       "            (dense): Linear(in_features=768, out_features=3072, bias=True)\n",
       "            (intermediate_act_fn): GELUActivation()\n",
       "          )\n",
       "          (output): BertOutput(\n",
       "            (dense): Linear(in_features=3072, out_features=768, bias=True)\n",
       "            (LayerNorm): LayerNorm((768,), eps=1e-12, elementwise_affine=True)\n",
       "            (dropout): Dropout(p=0.1, inplace=False)\n",
       "          )\n",
       "        )\n",
       "      )\n",
       "    )\n",
       "    (pooler): BertPooler(\n",
       "      (dense): Linear(in_features=768, out_features=768, bias=True)\n",
       "      (activation): Tanh()\n",
       "    )\n",
       "  )\n",
       "  (dropout): Dropout(p=0.1, inplace=False)\n",
       "  (classifier): Linear(in_features=768, out_features=4, bias=True)\n",
       ")"
      ]
     },
     "execution_count": 7,
     "metadata": {},
     "output_type": "execute_result"
    }
   ],
   "source": [
    "# Automatická detekcia zariadenia (GPU alebo CPU)\n",
    "device = torch.device('cuda' if torch.cuda.is_available() else 'cpu')\n",
    "model.to(device)  # presunieme model na príslušné zariadenie"
   ]
  },
  {
   "cell_type": "code",
   "execution_count": 8,
   "id": "d485a4fa-eb67-4f8c-a842-8af4843c2181",
   "metadata": {},
   "outputs": [],
   "source": [
    "# Rozdelenie dát do batchov (skupín)\n",
    "train_loader = DataLoader(train_dataset, batch_size=16, shuffle=True)  \n",
    "test_loader = DataLoader(test_dataset, batch_size=16, shuffle=False)    "
   ]
  },
  {
   "cell_type": "code",
   "execution_count": 9,
   "id": "7a764500-51c4-4b95-b130-9e54d2d70095",
   "metadata": {},
   "outputs": [],
   "source": [
    "# Výber optimalizátora\n",
    "optimizer = torch.optim.AdamW(model.parameters(), lr=5e-5)"
   ]
  },
  {
   "cell_type": "code",
   "execution_count": 10,
   "id": "b7732db9-a519-4326-aebe-df4ea560a8b2",
   "metadata": {},
   "outputs": [],
   "source": [
    "# Loss funkcia pre viactriednu klasifikáciu\n",
    "loss_fn = torch.nn.CrossEntropyLoss()"
   ]
  },
  {
   "cell_type": "code",
   "execution_count": 11,
   "id": "e2c80083-72fc-4887-acd8-62f309e831d8",
   "metadata": {},
   "outputs": [
    {
     "name": "stdout",
     "output_type": "stream",
     "text": [
      "Epoch 1, Priemerná strata: 1.3853\n",
      "Epoch 2, Priemerná strata: 1.2028\n",
      "Epoch 3, Priemerná strata: 0.9000\n",
      "Epoch 4, Priemerná strata: 0.6102\n",
      "Epoch 5, Priemerná strata: 0.3557\n",
      "Epoch 6, Priemerná strata: 0.2337\n",
      "Epoch 7, Priemerná strata: 0.1719\n",
      "Epoch 8, Priemerná strata: 0.1167\n",
      "Epoch 9, Priemerná strata: 0.0851\n",
      "Epoch 10, Priemerná strata: 0.0696\n"
     ]
    }
   ],
   "source": [
    "# Hlavný tréningový cyklus pre model, beží 10 epôch\n",
    "for epoch in range(10):\n",
    "    model.train()  \n",
    "    total_loss = 0  \n",
    "\n",
    "    # Iterácia cez jednotlivé batch-e z trénovacieho DataLoaderu\n",
    "    for batch in train_loader:\n",
    "        optimizer.zero_grad() # Odstránenie starých gradientov, aby sa neprekrývali s novými\n",
    "        \n",
    "        # Prenesieme dáta na GPU alebo CPU podľa konfigurácie\n",
    "        input_ids = batch[0].to(device)\n",
    "        attention_mask = batch[1].to(device)\n",
    "        labels = batch[2].to(device)\n",
    "\n",
    "        # Model vypočíta predikcie\n",
    "        outputs = model(input_ids, attention_mask=attention_mask)\n",
    "        \n",
    "        # Vypočítanie straty medzi predikciou a skutočnými štítkami\n",
    "        loss = loss_fn(outputs.logits, labels)\n",
    "        \n",
    "        # Výpočet gradientov podľa straty\n",
    "        loss.backward()\n",
    "        \n",
    "        # Aktualizacia váhy modelu podľa gradientov\n",
    "        optimizer.step()\n",
    "\n",
    "        # Strata k celkovej strate pre túto epochu\n",
    "        total_loss += loss.item()\n",
    "    \n",
    "    # Priemerná strata na konci epóchy\n",
    "    avg_loss = total_loss / len(train_loader)\n",
    "    print(f\"Epoch {epoch + 1}, Priemerná strata: {avg_loss:.4f}\")"
   ]
  },
  {
   "cell_type": "code",
   "execution_count": 12,
   "id": "33f0c209-9484-40f0-9f9d-858251d754e0",
   "metadata": {},
   "outputs": [],
   "source": [
    "# Prepnutie modelu do režimu vyhodnotenia\n",
    "model.eval()\n",
    "\n",
    "# Premenné na uloženie predikcií a skutočných hodnôt pre neskoršie porovnanie\n",
    "all_preds = []   # Predikcie modelu\n",
    "all_labels = []  # Reálne (skutočné) štítky z datasetu"
   ]
  },
  {
   "cell_type": "code",
   "execution_count": 13,
   "id": "575074ed-7c40-4640-adea-27fbf1d99e38",
   "metadata": {},
   "outputs": [],
   "source": [
    "# Zobrazenie všetkých časti testovacích dát\n",
    "for batch in test_loader:\n",
    "    input_ids = batch[0].to(device)\n",
    "    attention_mask = batch[1].to(device)\n",
    "    labels = batch[2].cpu().numpy() # Získanie skutočných odpovedí (štítkov), ktoré model porovnáva so svojimi predikciami\n",
    "\n",
    "    with torch.no_grad():\n",
    "        outputs = model(input_ids, attention_mask=attention_mask) # Model predpovedá výstupy pre dané vstupy\n",
    "\n",
    "    # Výber triedy, ktorú model odhadol ako najpravdepodobnejšiu\n",
    "    preds = torch.argmax(outputs.logits, dim=1).cpu().numpy()\n",
    "\n",
    "    # Uloženie predikcie a skutočných odpovedí na porovnanie\n",
    "    all_preds.extend(preds)\n",
    "    all_labels.extend(labels)"
   ]
  },
  {
   "cell_type": "code",
   "execution_count": 14,
   "id": "2c29e077-9f61-41ec-9dbe-cf524126875f",
   "metadata": {},
   "outputs": [
    {
     "name": "stdout",
     "output_type": "stream",
     "text": [
      "Úspešnosť modelu: 0.8284789644012945\n"
     ]
    }
   ],
   "source": [
    "# Vypočítanie úspešnosťi modelu\n",
    "accuracy = accuracy_score(all_labels, all_preds)\n",
    "print(\"Úspešnosť modelu:\", accuracy)"
   ]
  },
  {
   "cell_type": "code",
   "execution_count": 15,
   "id": "b180cc20-015f-4f91-9097-6aa88611abc6",
   "metadata": {},
   "outputs": [
    {
     "data": {
      "image/png": "[encoded data removed]",
      "text/plain": [
       "<Figure size 800x600 with 1 Axes>"
      ]
     },
     "metadata": {},
     "output_type": "display_data"
    }
   ],
   "source": [
    "# Vytváranie matrice zámen\n",
    "cm = confusion_matrix(all_labels, all_preds)\n",
    "\n",
    "plt.figure(figsize=(8, 6))\n",
    "sns.heatmap(cm, annot=True, fmt='d', cmap='Blues', cbar=False)\n",
    "plt.xlabel('Predikovaná trieda')\n",
    "plt.ylabel('Skutočná trieda')\n",
    "plt.title('Confusion Matrix')\n",
    "plt.show()"
   ]
  },
  {
   "cell_type": "code",
   "execution_count": 16,
   "id": "1e41d098-19be-4451-a817-650c1ba0406f",
   "metadata": {},
   "outputs": [
    {
     "name": "stdout",
     "output_type": "stream",
     "text": [
      "False negatives: 106\n",
      "True positives: 512\n",
      "False negative rate: 0.1715\n"
     ]
    }
   ],
   "source": [
    "# Výpočet falošnej negatívnej miery\n",
    "def false_negative_rate(fn, tp):\n",
    "    return fn / (fn + tp) if (fn + tp) > 0 else 0.0\n",
    "\n",
    "total_fn = 0\n",
    "total_tp = 0\n",
    "\n",
    "for i in range(4):  # pre všetky 4 triedy\n",
    "    fn = sum(cm[i, :]) - cm[i, i]  \n",
    "    tp = cm[i, i]  \n",
    "    total_fn += fn\n",
    "    total_tp += tp\n",
    "\n",
    "print(\"False negatives:\", total_fn)\n",
    "print(\"True positives:\", total_tp)\n",
    "\n",
    "overall_fnr = false_negative_rate(total_fn, total_tp)\n",
    "print(f\"False negative rate: {overall_fnr:.4f}\")"
   ]
  },
  {
   "cell_type": "code",
   "execution_count": null,
   "id": "fd6938c8-157e-4804-a555-9b5e54db5425",
   "metadata": {},
   "outputs": [],
   "source": []
  }
 ],
 "metadata": {
  "kernelspec": {
   "display_name": "Python 3 (ipykernel)",
   "language": "python",
   "name": "python3"
  },
  "language_info": {
   "codemirror_mode": {
    "name": "ipython",
    "version": 3
   },
   "file_extension": ".py",
   "mimetype": "text/x-python",
   "name": "python",
   "nbconvert_exporter": "python",
   "pygments_lexer": "ipython3",
   "version": "3.12.10"
  }
 },
 "nbformat": 4,
 "nbformat_minor": 5
}
