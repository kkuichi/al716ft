{
 "cells": [
  {
   "cell_type": "code",
   "execution_count": 1,
   "id": "0867d5e8-48be-48ce-8366-3e2766fc0d8e",
   "metadata": {},
   "outputs": [
    {
     "name": "stderr",
     "output_type": "stream",
     "text": [
      "2025-05-19 10:40:00.745244: E external/local_xla/xla/stream_executor/cuda/cuda_fft.cc:467] Unable to register cuFFT factory: Attempting to register factory for plugin cuFFT when one has already been registered\n",
      "WARNING: All log messages before absl::InitializeLog() is called are written to STDERR\n",
      "E0000 00:00:1747651200.761854   11124 cuda_dnn.cc:8579] Unable to register cuDNN factory: Attempting to register factory for plugin cuDNN when one has already been registered\n",
      "E0000 00:00:1747651200.766855   11124 cuda_blas.cc:1407] Unable to register cuBLAS factory: Attempting to register factory for plugin cuBLAS when one has already been registered\n",
      "W0000 00:00:1747651200.779774   11124 computation_placer.cc:177] computation placer already registered. Please check linkage and avoid linking the same target more than once.\n",
      "W0000 00:00:1747651200.779788   11124 computation_placer.cc:177] computation placer already registered. Please check linkage and avoid linking the same target more than once.\n",
      "W0000 00:00:1747651200.779790   11124 computation_placer.cc:177] computation placer already registered. Please check linkage and avoid linking the same target more than once.\n",
      "W0000 00:00:1747651200.779791   11124 computation_placer.cc:177] computation placer already registered. Please check linkage and avoid linking the same target more than once.\n",
      "2025-05-19 10:40:00.784689: I tensorflow/core/platform/cpu_feature_guard.cc:210] This TensorFlow binary is optimized to use available CPU instructions in performance-critical operations.\n",
      "To enable the following instructions: AVX2 FMA, in other operations, rebuild TensorFlow with the appropriate compiler flags.\n"
     ]
    }
   ],
   "source": [
    "import torch\n",
    "from transformers import RobertaTokenizer, RobertaForSequenceClassification\n",
    "from torch.utils.data import DataLoader, TensorDataset\n",
    "from sklearn.model_selection import train_test_split\n",
    "from sklearn.metrics import accuracy_score, confusion_matrix\n",
    "import pandas as pd\n",
    "import matplotlib.pyplot as plt\n",
    "import seaborn as sns"
   ]
  },
  {
   "cell_type": "code",
   "execution_count": 2,
   "id": "6f3356af-2ac1-4877-8884-b852c84e1ce3",
   "metadata": {},
   "outputs": [],
   "source": [
    "# Načítanie dát\n",
    "df = pd.read_csv(\"toxic_training.csv\")\n",
    "df = df.dropna()\n",
    "\n",
    "# Prevod labelov na celé čísla\n",
    "df['label'] = df['label'].astype(int)"
   ]
  },
  {
   "cell_type": "code",
   "execution_count": 3,
   "id": "d1d27e95-2c4f-437c-8d8d-b7fd562abe53",
   "metadata": {},
   "outputs": [],
   "source": [
    "# Rozdelenie na trénovacie/testovacie dáta\n",
    "train_texts, test_texts, train_labels, test_labels = train_test_split(\n",
    "    df['text'], df['label'], test_size=0.2, random_state=42, stratify=df['label']\n",
    ")"
   ]
  },
  {
   "cell_type": "code",
   "execution_count": 4,
   "id": "58906b24-b780-4500-bf1c-f92b0d8ee3ff",
   "metadata": {},
   "outputs": [],
   "source": [
    "# Načítanie predtrénovaného SlovakBERT tokenizéra\n",
    "tokenizer = RobertaTokenizer.from_pretrained('gerulata/slovakbert')\n",
    "\n",
    "# Tokenizácia trénovacích a testovacích textov\n",
    "train_encodings = tokenizer(train_texts.tolist(), truncation=True, padding=True, max_length=128)\n",
    "test_encodings = tokenizer(test_texts.tolist(), truncation=True, padding=True, max_length=128)"
   ]
  },
  {
   "cell_type": "code",
   "execution_count": 5,
   "id": "b21e1a92-dda2-4b29-a5f3-d06d9b3c7142",
   "metadata": {},
   "outputs": [],
   "source": [
    "# Príprava TensorDatasetov\n",
    "train_dataset = TensorDataset(\n",
    "    torch.tensor(train_encodings['input_ids']),\n",
    "    torch.tensor(train_encodings['attention_mask']),\n",
    "    torch.tensor(train_labels.tolist(), dtype=torch.long)\n",
    ")\n",
    "\n",
    "test_dataset = TensorDataset(\n",
    "    torch.tensor(test_encodings['input_ids']),\n",
    "    torch.tensor(test_encodings['attention_mask']),\n",
    "    torch.tensor(test_labels.tolist(), dtype=torch.long)\n",
    ")"
   ]
  },
  {
   "cell_type": "code",
   "execution_count": 6,
   "id": "de677440-678c-4701-8356-2ec4c137a28b",
   "metadata": {},
   "outputs": [
    {
     "name": "stderr",
     "output_type": "stream",
     "text": [
      "Some weights of RobertaForSequenceClassification were not initialized from the model checkpoint at gerulata/slovakbert and are newly initialized: ['classifier.dense.bias', 'classifier.dense.weight', 'classifier.out_proj.bias', 'classifier.out_proj.weight']\n",
      "You should probably TRAIN this model on a down-stream task to be able to use it for predictions and inference.\n"
     ]
    }
   ],
   "source": [
    "# Inicializácia modelu SlovakBERT pre klasifikáciu do 4 tried\n",
    "model = RobertaForSequenceClassification.from_pretrained('gerulata/slovakbert', num_labels=4)"
   ]
  },
  {
   "cell_type": "code",
   "execution_count": 7,
   "id": "7a9dce1e-b567-47d3-90ef-a6e4da058acc",
   "metadata": {},
   "outputs": [
    {
     "data": {
      "text/plain": [
       "RobertaForSequenceClassification(\n",
       "  (roberta): RobertaModel(\n",
       "    (embeddings): RobertaEmbeddings(\n",
       "      (word_embeddings): Embedding(50264, 768, padding_idx=1)\n",
       "      (position_embeddings): Embedding(514, 768, padding_idx=1)\n",
       "      (token_type_embeddings): Embedding(1, 768)\n",
       "      (LayerNorm): LayerNorm((768,), eps=1e-05, elementwise_affine=True)\n",
       "      (dropout): Dropout(p=0.1, inplace=False)\n",
       "    )\n",
       "    (encoder): RobertaEncoder(\n",
       "      (layer): ModuleList(\n",
       "        (0-11): 12 x RobertaLayer(\n",
       "          (attention): RobertaAttention(\n",
       "            (self): RobertaSdpaSelfAttention(\n",
       "              (query): Linear(in_features=768, out_features=768, bias=True)\n",
       "              (key): Linear(in_features=768, out_features=768, bias=True)\n",
       "              (value): Linear(in_features=768, out_features=768, bias=True)\n",
       "              (dropout): Dropout(p=0.1, inplace=False)\n",
       "            )\n",
       "            (output): RobertaSelfOutput(\n",
       "              (dense): Linear(in_features=768, out_features=768, bias=True)\n",
       "              (LayerNorm): LayerNorm((768,), eps=1e-05, elementwise_affine=True)\n",
       "              (dropout): Dropout(p=0.1, inplace=False)\n",
       "            )\n",
       "          )\n",
       "          (intermediate): RobertaIntermediate(\n",
       "            (dense): Linear(in_features=768, out_features=3072, bias=True)\n",
       "            (intermediate_act_fn): GELUActivation()\n",
       "          )\n",
       "          (output): RobertaOutput(\n",
       "            (dense): Linear(in_features=3072, out_features=768, bias=True)\n",
       "            (LayerNorm): LayerNorm((768,), eps=1e-05, elementwise_affine=True)\n",
       "            (dropout): Dropout(p=0.1, inplace=False)\n",
       "          )\n",
       "        )\n",
       "      )\n",
       "    )\n",
       "  )\n",
       "  (classifier): RobertaClassificationHead(\n",
       "    (dense): Linear(in_features=768, out_features=768, bias=True)\n",
       "    (dropout): Dropout(p=0.1, inplace=False)\n",
       "    (out_proj): Linear(in_features=768, out_features=4, bias=True)\n",
       "  )\n",
       ")"
      ]
     },
     "execution_count": 7,
     "metadata": {},
     "output_type": "execute_result"
    }
   ],
   "source": [
    "# Automatická detekcia zariadenia (GPU alebo CPU)\n",
    "device = torch.device('cuda') if torch.cuda.is_available() else torch.device('cpu')\n",
    "model.to(device)  # presunieme model na príslušné zariadenie"
   ]
  },
  {
   "cell_type": "code",
   "execution_count": 8,
   "id": "4378916c-7fc9-49ef-973e-077a8400ed70",
   "metadata": {},
   "outputs": [],
   "source": [
    "# Rozdelenie dát do batchov (skupín)\n",
    "train_loader = DataLoader(train_dataset, batch_size=16, shuffle=True)\n",
    "test_loader = DataLoader(test_dataset, batch_size=16, shuffle=False)"
   ]
  },
  {
   "cell_type": "code",
   "execution_count": 9,
   "id": "a3d16041-e641-4d0c-bd1b-186529243c84",
   "metadata": {},
   "outputs": [],
   "source": [
    "# Výber optimalizátora\n",
    "optimizer = torch.optim.AdamW(model.parameters(), lr=2e-5)"
   ]
  },
  {
   "cell_type": "code",
   "execution_count": 10,
   "id": "fa897368-6d5a-46ae-97f4-de4ab12cf2b4",
   "metadata": {},
   "outputs": [],
   "source": [
    "# Loss funkcia pre viactriednu klasifikáciu\n",
    "loss_fn = torch.nn.CrossEntropyLoss()"
   ]
  },
  {
   "cell_type": "code",
   "execution_count": 11,
   "id": "385f1ef6-6d20-4720-970e-53f447889d0a",
   "metadata": {},
   "outputs": [
    {
     "name": "stdout",
     "output_type": "stream",
     "text": [
      "Epoch 1, Loss: 1.2175\n",
      "Epoch 2, Loss: 0.7926\n",
      "Epoch 3, Loss: 0.4850\n",
      "Epoch 4, Loss: 0.3393\n",
      "Epoch 5, Loss: 0.1963\n",
      "Epoch 6, Loss: 0.1139\n",
      "Epoch 7, Loss: 0.1703\n",
      "Epoch 8, Loss: 0.1634\n",
      "Epoch 9, Loss: 0.0517\n",
      "Epoch 10, Loss: 0.0503\n"
     ]
    }
   ],
   "source": [
    "# Hlavný tréningový cyklus pre model, beží 10 epôch\n",
    "for epoch in range(10):\n",
    "    model.train()\n",
    "    total_loss = 0\n",
    "    \n",
    "    # Iterácia cez jednotlivé batch-e z trénovacieho DataLoaderu\n",
    "    for batch in train_loader:\n",
    "        optimizer.zero_grad() # # Odstránenie starých gradientov, aby sa neprekrývali s novými\n",
    "\n",
    "        # Prenesieme dáta na GPU alebo CPU podľa konfigurácie\n",
    "        input_ids = batch[0].to(device)\n",
    "        attention_mask = batch[1].to(device)\n",
    "        labels = batch[2].to(device)\n",
    "\n",
    "        # Model vypočíta predikcie\n",
    "        outputs = model(input_ids, attention_mask=attention_mask)\n",
    "\n",
    "        # Vypočítanie straty medzi predikciou a skutočnými štítkami\n",
    "        loss = loss_fn(outputs.logits, labels)\n",
    "        \n",
    "        # Výpočet gradientov podľa straty\n",
    "        loss.backward()\n",
    "\n",
    "        # Aktualizacia váhy modelu podľa gradientov\n",
    "        optimizer.step()\n",
    "\n",
    "        # Strata k celkovej strate pre túto epochu\n",
    "        total_loss += loss.item()\n",
    "\n",
    "    # Priemerná strata na konci epóchy\n",
    "    avg_loss = total_loss / len(train_loader)\n",
    "    print(f\"Epoch {epoch + 1}, Loss: {avg_loss:.4f}\")"
   ]
  },
  {
   "cell_type": "code",
   "execution_count": 12,
   "id": "581ea17a-72ee-4568-8198-d65091b3ed56",
   "metadata": {},
   "outputs": [],
   "source": [
    "# Prepnutie modelu do režimu vyhodnotenia\n",
    "model.eval()\n",
    "\n",
    "# Premenné na uloženie predikcií a skutočných hodnôt pre neskoršie porovnanie\n",
    "all_preds = []   # Predikcie modelu\n",
    "all_labels = []  # Reálne (skutočné) štítky z datasetu"
   ]
  },
  {
   "cell_type": "code",
   "execution_count": 13,
   "id": "d66e1a74-b58e-471b-8951-e9e964e91311",
   "metadata": {},
   "outputs": [],
   "source": [
    "# Zobrazenie všetkých časti testovacích dát\n",
    "for batch in test_loader:\n",
    "    input_ids = batch[0].to(device)\n",
    "    attention_mask = batch[1].to(device)\n",
    "    labels = batch[2].cpu().numpy() # Získanie skutočných odpovedí (štítkov), ktoré model porovnáva so svojimi predikciami\n",
    "\n",
    "    with torch.no_grad():\n",
    "        outputs = model(input_ids, attention_mask=attention_mask) #  Model predpovedá výstupy pre dané vstupy\n",
    "    \n",
    "    # Výber triedy, ktorú model odhadol ako najpravdepodobnejšiu\n",
    "    preds = torch.argmax(outputs.logits, dim=1).cpu().numpy()\n",
    "\n",
    "\n",
    "    # Uloženie predikcie a skutočných odpovedí na porovnanie\n",
    "    all_preds.extend(preds)\n",
    "    all_labels.extend(labels)"
   ]
  },
  {
   "cell_type": "code",
   "execution_count": 14,
   "id": "5f928c09-297c-4186-983b-e76756057065",
   "metadata": {},
   "outputs": [
    {
     "name": "stdout",
     "output_type": "stream",
     "text": [
      "Úspešnosť modelu: 0.8478964401294499\n"
     ]
    }
   ],
   "source": [
    "# Vypočítanie úspešnosťi modelu\n",
    "accuracy = accuracy_score(all_labels, all_preds)\n",
    "print(\"Úspešnosť modelu:\", accuracy)"
   ]
  },
  {
   "cell_type": "code",
   "execution_count": 15,
   "id": "b1b5456c-1675-4c85-a4a3-d0cf803a913e",
   "metadata": {},
   "outputs": [
    {
     "data": {
      "image/png": "[encoded data removed]",
      "text/plain": [
       "<Figure size 800x600 with 1 Axes>"
      ]
     },
     "metadata": {},
     "output_type": "display_data"
    }
   ],
   "source": [
    "# Vytváranie matrice zámen\n",
    "cm = confusion_matrix(all_labels, all_preds)\n",
    "\n",
    "plt.figure(figsize=(8, 6))\n",
    "sns.heatmap(cm, annot=True, fmt='d', cmap='Blues', cbar=False)\n",
    "plt.xlabel('Predikovaná trieda')\n",
    "plt.ylabel('Skutočná trieda')\n",
    "plt.title('Confusion Matrix')\n",
    "plt.show()"
   ]
  },
  {
   "cell_type": "code",
   "execution_count": 16,
   "id": "0c198f45-c436-4d16-b4f3-9f8bae594871",
   "metadata": {},
   "outputs": [
    {
     "name": "stdout",
     "output_type": "stream",
     "text": [
      "False negatives: 94\n",
      "True positives: 524\n",
      "False negative rate: 0.1521\n"
     ]
    }
   ],
   "source": [
    "# Výpočet falošnej negatívnej miery\n",
    "def false_negative_rate(fn, tp):\n",
    "    return fn / (fn + tp) if (fn + tp) > 0 else 0.0\n",
    "\n",
    "total_fn = 0\n",
    "total_tp = 0\n",
    "\n",
    "for i in range(4):  # pre všetky 4 triedy\n",
    "    fn = sum(cm[i, :]) - cm[i, i]  \n",
    "    tp = cm[i, i]  \n",
    "    total_fn += fn\n",
    "    total_tp += tp\n",
    "\n",
    "print(\"False negatives:\", total_fn)\n",
    "print(\"True positives:\", total_tp)\n",
    "\n",
    "overall_fnr = false_negative_rate(total_fn, total_tp)\n",
    "print(f\"False negative rate: {overall_fnr:.4f}\")"
   ]
  }
 ],
 "metadata": {
  "kernelspec": {
   "display_name": "Python 3 (ipykernel)",
   "language": "python",
   "name": "python3"
  },
  "language_info": {
   "codemirror_mode": {
    "name": "ipython",
    "version": 3
   },
   "file_extension": ".py",
   "mimetype": "text/x-python",
   "name": "python",
   "nbconvert_exporter": "python",
   "pygments_lexer": "ipython3",
   "version": "3.12.10"
  }
 },
 "nbformat": 4,
 "nbformat_minor": 5
}
