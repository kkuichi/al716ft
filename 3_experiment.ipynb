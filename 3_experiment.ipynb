{
 "cells": [
  {
   "cell_type": "code",
   "execution_count": 16,
   "id": "f5bb65a7-18f6-49bf-85fb-c8562903d6ad",
   "metadata": {},
   "outputs": [],
   "source": [
    "import torch\n",
    "from transformers import BertTokenizer, BertForSequenceClassification\n",
    "from torch.utils.data import DataLoader, TensorDataset\n",
    "from sklearn.model_selection import train_test_split\n",
    "from sklearn.metrics import accuracy_score, confusion_matrix\n",
    "import pandas as pd\n",
    "import matplotlib.pyplot as plt\n",
    "import seaborn as sns"
   ]
  },
  {
   "cell_type": "code",
   "execution_count": 17,
   "id": "a73418d3-3efd-4c97-b093-f1d5e631097f",
   "metadata": {},
   "outputs": [],
   "source": [
    "# Načítanie CSV súboru s dátami\n",
    "df = pd.read_csv(\"toxic_sk_for_bert.csv\")\n",
    "\n",
    "# Odstránenie prázdnych riadkov\n",
    "df = df.dropna() \n",
    "\n",
    "# Konverzia stĺpca 'label' na celé čísla\n",
    "df['label'] = df['label'].astype(int)"
   ]
  },
  {
   "cell_type": "code",
   "execution_count": 18,
   "id": "ba6b907d-52f3-46bd-b4b2-26f3a508c617",
   "metadata": {},
   "outputs": [],
   "source": [
    "# Rozdelenie dát na tréning a testovanie, 80 % pôjde na trénovanie, 20 % na test\n",
    "train_texts, test_texts, train_labels, test_labels = train_test_split(\n",
    "    df['text'], df['label'], test_size=0.2, random_state=42)"
   ]
  },
  {
   "cell_type": "code",
   "execution_count": 19,
   "id": "86f727db-bb24-42a6-863c-d18efdc7e4b4",
   "metadata": {},
   "outputs": [],
   "source": [
    "# Načítanie predtrénovaného anglického BERT tokenizeru ============ #\n",
    "tokenizer = BertTokenizer.from_pretrained('bert-base-uncased')\n",
    "\n",
    "# Tokenizácia textov na číselné vstupy pre model \n",
    "train_encodings = tokenizer(train_texts.tolist(), truncation=True, padding=True, max_length=128)\n",
    "test_encodings = tokenizer(test_texts.tolist(), truncation=True, padding=True, max_length=128)"
   ]
  },
  {
   "cell_type": "code",
   "execution_count": 20,
   "id": "fc67dbf9-cfab-4dad-a70b-4be00568a37a",
   "metadata": {},
   "outputs": [],
   "source": [
    "# Vytvorenie trénovacích a testovacích TensorDatasetov\n",
    "train_dataset = TensorDataset(\n",
    "    torch.tensor(train_encodings['input_ids']),\n",
    "    torch.tensor(train_encodings['attention_mask']),\n",
    "    torch.tensor(train_labels.tolist(), dtype=torch.long)\n",
    ")\n",
    "\n",
    "test_dataset = TensorDataset(\n",
    "    torch.tensor(test_encodings['input_ids']),\n",
    "    torch.tensor(test_encodings['attention_mask']),\n",
    "    torch.tensor(test_labels.tolist(), dtype=torch.long)\n",
    ")"
   ]
  },
  {
   "cell_type": "code",
   "execution_count": 21,
   "id": "1b639613-38da-495d-a634-c3b4bf161437",
   "metadata": {},
   "outputs": [
    {
     "name": "stderr",
     "output_type": "stream",
     "text": [
      "Some weights of BertForSequenceClassification were not initialized from the model checkpoint at bert-base-uncased and are newly initialized: ['classifier.bias', 'classifier.weight']\n",
      "You should probably TRAIN this model on a down-stream task to be able to use it for predictions and inference.\n"
     ]
    }
   ],
   "source": [
    "# Načítanie predtrénovaného BERT modelu pre klasifikáciu \n",
    "model = BertForSequenceClassification.from_pretrained('bert-base-uncased', num_labels=2)"
   ]
  },
  {
   "cell_type": "code",
   "execution_count": 22,
   "id": "b1bfe512-c251-4d89-ae83-12486fb0f6c4",
   "metadata": {},
   "outputs": [
    {
     "data": {
      "text/plain": [
       "BertForSequenceClassification(\n",
       "  (bert): BertModel(\n",
       "    (embeddings): BertEmbeddings(\n",
       "      (word_embeddings): Embedding(30522, 768, padding_idx=0)\n",
       "      (position_embeddings): Embedding(512, 768)\n",
       "      (token_type_embeddings): Embedding(2, 768)\n",
       "      (LayerNorm): LayerNorm((768,), eps=1e-12, elementwise_affine=True)\n",
       "      (dropout): Dropout(p=0.1, inplace=False)\n",
       "    )\n",
       "    (encoder): BertEncoder(\n",
       "      (layer): ModuleList(\n",
       "        (0-11): 12 x BertLayer(\n",
       "          (attention): BertAttention(\n",
       "            (self): BertSdpaSelfAttention(\n",
       "              (query): Linear(in_features=768, out_features=768, bias=True)\n",
       "              (key): Linear(in_features=768, out_features=768, bias=True)\n",
       "              (value): Linear(in_features=768, out_features=768, bias=True)\n",
       "              (dropout): Dropout(p=0.1, inplace=False)\n",
       "            )\n",
       "            (output): BertSelfOutput(\n",
       "              (dense): Linear(in_features=768, out_features=768, bias=True)\n",
       "              (LayerNorm): LayerNorm((768,), eps=1e-12, elementwise_affine=True)\n",
       "              (dropout): Dropout(p=0.1, inplace=False)\n",
       "            )\n",
       "          )\n",
       "          (intermediate): BertIntermediate(\n",
       "            (dense): Linear(in_features=768, out_features=3072, bias=True)\n",
       "            (intermediate_act_fn): GELUActivation()\n",
       "          )\n",
       "          (output): BertOutput(\n",
       "            (dense): Linear(in_features=3072, out_features=768, bias=True)\n",
       "            (LayerNorm): LayerNorm((768,), eps=1e-12, elementwise_affine=True)\n",
       "            (dropout): Dropout(p=0.1, inplace=False)\n",
       "          )\n",
       "        )\n",
       "      )\n",
       "    )\n",
       "    (pooler): BertPooler(\n",
       "      (dense): Linear(in_features=768, out_features=768, bias=True)\n",
       "      (activation): Tanh()\n",
       "    )\n",
       "  )\n",
       "  (dropout): Dropout(p=0.1, inplace=False)\n",
       "  (classifier): Linear(in_features=768, out_features=2, bias=True)\n",
       ")"
      ]
     },
     "execution_count": 22,
     "metadata": {},
     "output_type": "execute_result"
    }
   ],
   "source": [
    "#  Výber zariadenia (GPU/CPU) a presun modelu \n",
    "device = torch.device('cuda') if torch.cuda.is_available() else torch.device('cpu')\n",
    "model.to(device)"
   ]
  },
  {
   "cell_type": "code",
   "execution_count": 23,
   "id": "44fd3142-aed2-46cd-bb14-3023ebadc741",
   "metadata": {},
   "outputs": [],
   "source": [
    "# Príprava DataLoaderov pre tréning a test \n",
    "train_loader = DataLoader(train_dataset, batch_size=16, shuffle=True)  \n",
    "test_loader = DataLoader(test_dataset, batch_size=16, shuffle=False)  "
   ]
  },
  {
   "cell_type": "code",
   "execution_count": 24,
   "id": "9407e7a4-cf1d-414c-a9d8-a54e59fed763",
   "metadata": {},
   "outputs": [],
   "source": [
    "# Inicializácia optimalizátora a funkcie straty \n",
    "optimizer = torch.optim.AdamW(model.parameters(), lr=5e-5)\n",
    "loss_fn = torch.nn.CrossEntropyLoss()"
   ]
  },
  {
   "cell_type": "code",
   "execution_count": 25,
   "id": "51c50eba-1786-4fe3-a19d-591ddf972a53",
   "metadata": {},
   "outputs": [
    {
     "name": "stdout",
     "output_type": "stream",
     "text": [
      "Epoch 1, Priemerná strata: 0.6283\n",
      "Epoch 2, Priemerná strata: 0.3583\n",
      "Epoch 3, Priemerná strata: 0.2177\n",
      "Epoch 4, Priemerná strata: 0.1374\n",
      "Epoch 5, Priemerná strata: 0.0918\n",
      "Epoch 6, Priemerná strata: 0.0682\n",
      "Epoch 7, Priemerná strata: 0.0594\n",
      "Epoch 8, Priemerná strata: 0.0401\n",
      "Epoch 9, Priemerná strata: 0.0289\n",
      "Epoch 10, Priemerná strata: 0.0336\n"
     ]
    }
   ],
   "source": [
    "# Tréningový cyklus (10 epôch)\n",
    "for epoch in range(10):\n",
    "    model.train()  # nastavíme model do trénovacieho módu\n",
    "    total_loss = 0  \n",
    "\n",
    "    for batch in train_loader:\n",
    "        optimizer.zero_grad()  # Odstránenie starých gradientov, aby sa neprekrývali s novými\n",
    "        \n",
    "        # Prenesieme dáta na GPU alebo CPU podľa konfigurácie\n",
    "        input_ids = batch[0].to(device)\n",
    "        attention_mask = batch[1].to(device)\n",
    "        labels = batch[2].to(device)\n",
    "\n",
    "        # Model vypočíta predikcie\n",
    "        outputs = model(input_ids, attention_mask=attention_mask) \n",
    "      \n",
    "        # Výpočet chyby\n",
    "        loss = loss_fn(outputs.logits, labels)  \n",
    "       \n",
    "        #  výpočet gradientov podľa straty\n",
    "        loss.backward()  \n",
    "\n",
    "        # Aktualizácia váh\n",
    "        optimizer.step() \n",
    "\n",
    "        # Strata k celkovej strate pre túto epochu\n",
    "        total_loss += loss.item()\n",
    "    \n",
    "    # Priemerná strata na konci epóchy\n",
    "    avg_loss = total_loss / len(train_loader)\n",
    "    print(f\"Epoch {epoch + 1}, Priemerná strata: {avg_loss:.4f}\")"
   ]
  },
  {
   "cell_type": "code",
   "execution_count": 26,
   "id": "446e61a7-2bc8-4cdf-9a74-c8cc6613b8ee",
   "metadata": {},
   "outputs": [],
   "source": [
    "# Prepnutie modelu do režimu vyhodnotenia\n",
    "model.eval()  # nastavíme model do eval módu (žiadne aktualizácie)\n",
    "\n",
    "# Premenné na uloženie predikcií a skutočných hodnôt pre neskoršie porovnanie\n",
    "all_preds = []  # všetky predikcie\n",
    "all_labels = []  # skutočné hodnoty"
   ]
  },
  {
   "cell_type": "code",
   "execution_count": 27,
   "id": "d9f2fbe3-1d59-495c-8fe9-a9d91db1424b",
   "metadata": {},
   "outputs": [],
   "source": [
    "# Zobrazenie všetkých časti testovacích dát\n",
    "for batch in test_loader:\n",
    "    input_ids = batch[0].to(device)\n",
    "    attention_mask = batch[1].to(device)\n",
    "    labels = batch[2].cpu().numpy() # Získanie skutočných odpovedí (štítkov), ktoré model porovnáva so svojimi predikciami\n",
    "\n",
    "    with torch.no_grad():  # nevypočítavame gradienty\n",
    "        outputs = model(input_ids, attention_mask=attention_mask) # Model predpovedá výstupy pre dané vstupy\n",
    "    \n",
    "    # Výber triedy, ktorú model odhadol ako najpravdepodobnejšiu\n",
    "    preds = torch.argmax(outputs.logits, dim=1).cpu().numpy()  \n",
    "\n",
    "    # Uloženie predikcie a skutočných odpovedí na porovnanie\n",
    "    all_preds.extend(preds)\n",
    "    all_labels.extend(labels)\n"
   ]
  },
  {
   "cell_type": "code",
   "execution_count": 28,
   "id": "51cbcf0c-eeca-422e-9ff4-23b3197f2251",
   "metadata": {},
   "outputs": [
    {
     "name": "stdout",
     "output_type": "stream",
     "text": [
      "Úspešnosť modelu: 0.8790373654211526\n"
     ]
    }
   ],
   "source": [
    "# Vypočítanie úspešnosťi modelu\n",
    "accuracy = accuracy_score(all_labels, all_preds)\n",
    "print(\"Úspešnosť modelu:\", accuracy)"
   ]
  },
  {
   "cell_type": "code",
   "execution_count": 29,
   "id": "6ac68b80-4cd4-47b2-82cc-c19062494bac",
   "metadata": {},
   "outputs": [
    {
     "data": {
      "image/png": "[encoded data removed]",
      "text/plain": [
       "<Figure size 800x600 with 1 Axes>"
      ]
     },
     "metadata": {},
     "output_type": "display_data"
    }
   ],
   "source": [
    "# Vytváranie matice zámen\n",
    "cm = confusion_matrix(all_labels, all_preds)  \n",
    "\n",
    "plt.figure(figsize=(8, 6))\n",
    "sns.heatmap(cm, annot=True, fmt='d', cmap='Blues', cbar=False,\n",
    "            xticklabels=[\"Netoxický\", \"Toxický\"],\n",
    "            yticklabels=[\"Netoxický\", \"Toxický\"])\n",
    "plt.xlabel('Predikovaná trieda')\n",
    "plt.ylabel('Skutočná trieda')\n",
    "plt.title('Confusion Matrix')\n",
    "plt.show()"
   ]
  },
  {
   "cell_type": "code",
   "execution_count": 30,
   "id": "28ec9a75-d9ed-4700-b13b-78c0d4d46cce",
   "metadata": {},
   "outputs": [
    {
     "name": "stdout",
     "output_type": "stream",
     "text": [
      "False negatives: 121\n",
      "True positives: 670\n",
      "False negative rate: 0.1529709228824273\n"
     ]
    }
   ],
   "source": [
    "# Výpočet falošnej negatívnej miery \n",
    "def false_negative_rate(fn, tp):\n",
    "    return fn / (fn + tp) if (fn + tp) > 0 else 0.0\n",
    "\n",
    "false_negatives = cm[1][0]  # predikoval netoxický, ale mal byť toxický\n",
    "true_positives = cm[1][1]   # správne identifikovaný toxický komentár\n",
    "fnr = false_negative_rate(false_negatives, true_positives)\n",
    "\n",
    "print(\"False negatives:\", false_negatives)\n",
    "print(\"True positives:\", true_positives)\n",
    "print(\"False negative rate:\", fnr)"
   ]
  },
  {
   "cell_type": "code",
   "execution_count": null,
   "id": "971c9365-d95b-4dfd-a402-ebad7553133c",
   "metadata": {},
   "outputs": [],
   "source": []
  }
 ],
 "metadata": {
  "kernelspec": {
   "display_name": "Python 3 (ipykernel)",
   "language": "python",
   "name": "python3"
  },
  "language_info": {
   "codemirror_mode": {
    "name": "ipython",
    "version": 3
   },
   "file_extension": ".py",
   "mimetype": "text/x-python",
   "name": "python",
   "nbconvert_exporter": "python",
   "pygments_lexer": "ipython3",
   "version": "3.12.10"
  }
 },
 "nbformat": 4,
 "nbformat_minor": 5
}
